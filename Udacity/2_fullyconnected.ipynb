{
 "cells": [
  {
   "cell_type": "markdown",
   "metadata": {
    "colab_type": "text",
    "id": "kR-4eNdK6lYS"
   },
   "source": [
    "Deep Learning\n",
    "=============\n",
    "\n",
    "Assignment 2\n",
    "------------\n",
    "\n",
    "Previously in `1_notmnist.ipynb`, we created a pickle with formatted datasets for training, development and testing on the [notMNIST dataset](http://yaroslavvb.blogspot.com/2011/09/notmnist-dataset.html).\n",
    "\n",
    "The goal of this assignment is to progressively train deeper and more accurate models using TensorFlow."
   ]
  },
  {
   "cell_type": "code",
   "execution_count": 42,
   "metadata": {
    "cellView": "both",
    "colab": {
     "autoexec": {
      "startup": false,
      "wait_interval": 0
     }
    },
    "colab_type": "code",
    "id": "JLpLa8Jt7Vu4"
   },
   "outputs": [
    {
     "name": "stdout",
     "output_type": "stream",
     "text": [
      "TensorFlow Version: 1.13.1\n"
     ]
    }
   ],
   "source": [
    "# These are all the modules we'll be using later. Make sure you can import them\n",
    "# before proceeding further.\n",
    "from __future__ import print_function\n",
    "import numpy as np\n",
    "import tensorflow as tf\n",
    "from six.moves import cPickle as pickle\n",
    "from six.moves import range\n",
    "print(\"TensorFlow Version:\",tf.__version__)"
   ]
  },
  {
   "cell_type": "markdown",
   "metadata": {
    "colab_type": "text",
    "id": "1HrCK6e17WzV"
   },
   "source": [
    "First reload the data we generated in `1_notmnist.ipynb`."
   ]
  },
  {
   "cell_type": "code",
   "execution_count": 2,
   "metadata": {
    "cellView": "both",
    "colab": {
     "autoexec": {
      "startup": false,
      "wait_interval": 0
     },
     "output_extras": [
      {
       "item_id": 1
      }
     ]
    },
    "colab_type": "code",
    "executionInfo": {
     "elapsed": 19456,
     "status": "ok",
     "timestamp": 1449847956073,
     "user": {
      "color": "",
      "displayName": "",
      "isAnonymous": false,
      "isMe": true,
      "permissionId": "",
      "photoUrl": "",
      "sessionId": "0",
      "userId": ""
     },
     "user_tz": 480
    },
    "id": "y3-cj1bpmuxc",
    "outputId": "0ddb1607-1fc4-4ddb-de28-6c7ab7fb0c33"
   },
   "outputs": [
    {
     "name": "stdout",
     "output_type": "stream",
     "text": [
      "Training set (200000, 28, 28) (200000,)\n",
      "Validation set (10000, 28, 28) (10000,)\n",
      "Test set (10000, 28, 28) (10000,)\n"
     ]
    }
   ],
   "source": [
    "pickle_file = 'notMNIST.pickle'\n",
    "\n",
    "with open(pickle_file, 'rb') as f:\n",
    "  save = pickle.load(f)\n",
    "  train_dataset = save['train_dataset']\n",
    "  train_labels = save['train_labels']\n",
    "  valid_dataset = save['valid_dataset']\n",
    "  valid_labels = save['valid_labels']\n",
    "  test_dataset = save['test_dataset']\n",
    "  test_labels = save['test_labels']\n",
    "  del save  # hint to help gc free up memory\n",
    "  print('Training set', train_dataset.shape, train_labels.shape)\n",
    "  print('Validation set', valid_dataset.shape, valid_labels.shape)\n",
    "  print('Test set', test_dataset.shape, test_labels.shape)"
   ]
  },
  {
   "cell_type": "markdown",
   "metadata": {
    "colab_type": "text",
    "id": "L7aHrm6nGDMB"
   },
   "source": [
    "Reformat into a shape that's more adapted to the models we're going to train:\n",
    "- data as a flat matrix,\n",
    "- labels as float 1-hot encodings."
   ]
  },
  {
   "cell_type": "code",
   "execution_count": 3,
   "metadata": {
    "cellView": "both",
    "colab": {
     "autoexec": {
      "startup": false,
      "wait_interval": 0
     },
     "output_extras": [
      {
       "item_id": 1
      }
     ]
    },
    "colab_type": "code",
    "executionInfo": {
     "elapsed": 19723,
     "status": "ok",
     "timestamp": 1449847956364,
     "user": {
      "color": "",
      "displayName": "",
      "isAnonymous": false,
      "isMe": true,
      "permissionId": "",
      "photoUrl": "",
      "sessionId": "0",
      "userId": ""
     },
     "user_tz": 480
    },
    "id": "IRSyYiIIGIzS",
    "outputId": "2ba0fc75-1487-4ace-a562-cf81cae82793"
   },
   "outputs": [
    {
     "name": "stdout",
     "output_type": "stream",
     "text": [
      "Training set (200000, 784) (200000, 10)\n",
      "Validation set (10000, 784) (10000, 10)\n",
      "Test set (10000, 784) (10000, 10)\n"
     ]
    }
   ],
   "source": [
    "image_size = 28\n",
    "num_labels = 10\n",
    "\n",
    "def reformat(dataset, labels):\n",
    "  dataset = dataset.reshape((-1, image_size * image_size)).astype(np.float32)\n",
    "  # Map 0 to [1.0, 0.0, 0.0 ...], 1 to [0.0, 1.0, 0.0 ...]\n",
    "  labels = (np.arange(num_labels) == labels[:,None]).astype(np.float32)\n",
    "  return dataset, labels\n",
    "\n",
    "train_dataset, train_labels = reformat(train_dataset, train_labels)\n",
    "valid_dataset, valid_labels = reformat(valid_dataset, valid_labels)\n",
    "test_dataset, test_labels = reformat(test_dataset, test_labels)\n",
    "print('Training set', train_dataset.shape, train_labels.shape)\n",
    "print('Validation set', valid_dataset.shape, valid_labels.shape)\n",
    "print('Test set', test_dataset.shape, test_labels.shape)"
   ]
  },
  {
   "cell_type": "markdown",
   "metadata": {
    "colab_type": "text",
    "id": "nCLVqyQ5vPPH"
   },
   "source": [
    "We're first going to train a multinomial logistic regression using simple gradient descent.\n",
    "\n",
    "TensorFlow works like this:\n",
    "* First you describe the computation that you want to see performed: what the inputs, the variables, and the operations look like. These get created as nodes over a computation graph. This description is all contained within the block below:\n",
    "\n",
    "      with graph.as_default():\n",
    "          ...\n",
    "\n",
    "* Then you can run the operations on this graph as many times as you want by calling `session.run()`, providing it outputs to fetch from the graph that get returned. This runtime operation is all contained in the block below:\n",
    "\n",
    "      with tf.Session(graph=graph) as session:\n",
    "          ...\n",
    "\n",
    "Let's load all the data into TensorFlow and build the computation graph corresponding to our training:"
   ]
  },
  {
   "cell_type": "code",
   "execution_count": 38,
   "metadata": {},
   "outputs": [],
   "source": [
    "log_dir = './logs/2_fullyconnected'\n",
    "#Delete previous logs\n",
    "if tf.gfile.Exists(log_dir):\n",
    "    tf.gfile.DeleteRecursively(log_dir)\n",
    "#Create folder\n",
    "tf.gfile.MakeDirs(log_dir)"
   ]
  },
  {
   "cell_type": "code",
   "execution_count": 32,
   "metadata": {
    "cellView": "both",
    "colab": {
     "autoexec": {
      "startup": false,
      "wait_interval": 0
     }
    },
    "colab_type": "code",
    "id": "Nfv39qvtvOl_"
   },
   "outputs": [],
   "source": [
    "# With gradient descent training, even this much data is prohibitive.\n",
    "# Subset the training data for faster turnaround.\n",
    "train_subset = 1000\n",
    "valid_subset = valid_dataset.shape[0]\n",
    "test_subset = test_dataset.shape[0]\n",
    "\n",
    "# We can't initialize these variables to 0 - the network will get stuck.\n",
    "def weight_variable(shape):\n",
    "    \"\"\"Create a weight variable with appropriate initialization.\"\"\"\n",
    "    initial = tf.truncated_normal(shape, stddev=0.1)\n",
    "    return tf.Variable(initial)\n",
    "\n",
    "def bias_variable(shape):\n",
    "    \"\"\"Create a bias variable with appropriate initialization.\"\"\"\n",
    "    initial = tf.constant(0.1, shape = shape)\n",
    "    #initial = tf.zeros(shape=shape)\n",
    "    return tf.Variable(initial)\n",
    "\n",
    "def variable_summaries(var):\n",
    "    \"\"\"Attach a lot of summaries to a Tensor (for TensorBoard visualization).\"\"\"\n",
    "    with tf.name_scope('summaries'):\n",
    "      mean = tf.reduce_mean(var)\n",
    "      tf.summary.scalar('mean', mean)\n",
    "      with tf.name_scope('stddev'):\n",
    "        stddev = tf.sqrt(tf.reduce_mean(tf.square(var - mean)))\n",
    "      tf.summary.scalar('stddev', stddev)\n",
    "      tf.summary.scalar('max', tf.reduce_max(var))\n",
    "      tf.summary.scalar('min', tf.reduce_min(var))\n",
    "      tf.summary.histogram('histogram', var)\n",
    "\n",
    "def layer(input_tensor, input_dim, output_dim, layer_name, act=tf.nn.relu):\n",
    "    # Adding a name scope ensures logical grouping of the layers in the graph.\n",
    "    with tf.name_scope(layer_name):\n",
    "        '''VARIABLES'''\n",
    "        # These are the parameters that we are going to be training. The weight\n",
    "        # matrix will be initialized using random values following a (truncated)\n",
    "        # normal distribution. The biases get initialized to zero.\n",
    "\n",
    "        # This Variable will hold the state of the weights for the layer\n",
    "        with tf.name_scope('weights'):\n",
    "            weights = weight_variable([input_dim, output_dim])\n",
    "            variable_summaries(weights)\n",
    "\n",
    "        with tf.name_scope('biases'):\n",
    "            biases = bias_variable([output_dim])\n",
    "            variable_summaries(biases)\n",
    "\n",
    "        '''TRAINING COMPUTATION'''\n",
    "        # We multiply the inputs with the weight matrix, and add biases. We compute\n",
    "        # the softmax and cross-entropy (it's one operation in TensorFlow, because\n",
    "        # it's very common, and it can be optimized)\n",
    "        with tf.name_scope('Wx_plus_b'):\n",
    "            logits = tf.matmul(input_tensor, weights) + biases\n",
    "            tf.summary.histogram('logits', logits)\n",
    "\n",
    "        return logits, weights, biases     \n",
    "    \n",
    "def accuracy(predictions, labels):\n",
    "    with tf.name_scope('correct_prediction'):\n",
    "      #correct_prediction = tf.equal(tf.argmax(predictions, axis=1), labels)\n",
    "      correct_prediction = tf.equal(tf.math.argmax(predictions, axis=1), tf.math.argmax(labels, axis=1))\n",
    "    with tf.name_scope('accuracy'):\n",
    "        #accuracy = (100.0 * np.sum(correct_prediction) / predictions.shape[0])       \n",
    "        accuracy = 100.0 * tf.reduce_mean(tf.cast(correct_prediction, tf.float32))\n",
    "    tf.summary.scalar('accuracy', accuracy)\n",
    "    return accuracy\n",
    "\n",
    "# Create graph object: instantiate\n",
    "graph = tf.Graph()\n",
    "\n",
    "with graph.as_default():\n",
    "    '''INPUT DATA'''\n",
    "    # Load the training, validation and test data into constants that are\n",
    "    # attached to the graph.\n",
    "    # Input placeholders\n",
    "    with tf.name_scope('input'):\n",
    "        with tf.name_scope('Train'):\n",
    "            x = tf.placeholder(tf.float32, shape = [None, image_size * image_size], name = 'x-input')\n",
    "            y_ = tf.placeholder(tf.float32, shape = [None, num_labels], name = 'y-input')\n",
    "        with tf.name_scope('Validation'):\n",
    "            x_valid = tf.placeholder(tf.float32, shape = [None, image_size * image_size], name = 'x-input')\n",
    "            y_valid = tf.placeholder(tf.float32, shape = [None, num_labels], name = 'y-input')\n",
    "\n",
    "        with tf.name_scope('Test'):\n",
    "            x_test = tf.placeholder(tf.float32, shape = [None, image_size * image_size], name = 'x-input')\n",
    "            y_test = tf.placeholder(tf.float32, shape = [None, num_labels], name = 'y-input')\n",
    "            \n",
    "    # Save Image\n",
    "    with tf.name_scope('input_reshape'):\n",
    "       image_shaped_input = tf.reshape(x, [-1, 28, 28, 1])\n",
    "       tf.summary.image('input', image_shaped_input, 10)\n",
    "    \n",
    "    ##Run Layer\n",
    "    logits, weights, biases = layer(x, image_size * image_size, num_labels, \"Layer\")\n",
    "\n",
    "    with tf.name_scope('cross_entropy'):\n",
    "        # We take the average of this\n",
    "        # cross-entropy across all training examples: that's our loss.\n",
    "        with tf.name_scope('total'):\n",
    "            loss = tf.reduce_mean(tf.nn.softmax_cross_entropy_with_logits_v2(labels = y_, logits = logits))\n",
    "    \n",
    "    #Add to Graph\n",
    "    tf.summary.scalar(\"loss\", loss)\n",
    "\n",
    "    with tf.name_scope('train'):\n",
    "        '''OPTIMIZER'''\n",
    "        # We are going to find the minimum of this loss using gradient descent.\n",
    "        # 0.5 is the learning rate\n",
    "        optimizer = tf.train.GradientDescentOptimizer(0.5).minimize(loss)\n",
    "\n",
    "    '''PREDICTIONS for the training, validation, and test data.'''\n",
    "    # These are not part of training, but merely here so that we can report\n",
    "    # accuracy figures as we train.\n",
    "    with tf.name_scope('Prediction'):\n",
    "        train_prediction = tf.nn.softmax(logits)\n",
    "    \n",
    "    ##Accuracy\n",
    "    tr_acc = accuracy(train_prediction, y_)\n",
    "    \n",
    "    with tf.name_scope('valid'):\n",
    "        with tf.name_scope('Prediction'):\n",
    "            with tf.name_scope('Wx_plus_b'):\n",
    "                logits = tf.matmul(x_valid, weights) + biases\n",
    "                tf.summary.histogram('logits', logits)\n",
    "            valid_prediction = tf.nn.softmax(logits)\n",
    "        v_acc = accuracy(valid_prediction, y_valid)\n",
    "        \n",
    "    with tf.name_scope('test'):\n",
    "        with tf.name_scope('Prediction'):\n",
    "            with tf.name_scope('Wx_plus_b'):\n",
    "                logits = tf.matmul(x_test, weights) + biases\n",
    "                tf.summary.histogram('logits', logits)\n",
    "            test_prediction = tf.nn.softmax(logits)\n",
    "        ts_acc = accuracy(test_prediction, y_test)\n",
    "    \n",
    "    accuracy = [tr_acc , v_acc, ts_acc]"
   ]
  },
  {
   "cell_type": "markdown",
   "metadata": {
    "colab_type": "text",
    "id": "KQcL4uqISHjP"
   },
   "source": [
    "Let's run this computation and iterate:"
   ]
  },
  {
   "cell_type": "code",
   "execution_count": 39,
   "metadata": {
    "cellView": "both",
    "colab": {
     "autoexec": {
      "startup": false,
      "wait_interval": 0
     },
     "output_extras": [
      {
       "item_id": 9
      }
     ]
    },
    "colab_type": "code",
    "executionInfo": {
     "elapsed": 57454,
     "status": "ok",
     "timestamp": 1449847994134,
     "user": {
      "color": "",
      "displayName": "",
      "isAnonymous": false,
      "isMe": true,
      "permissionId": "",
      "photoUrl": "",
      "sessionId": "0",
      "userId": ""
     },
     "user_tz": 480
    },
    "id": "z2cjdenH869W",
    "outputId": "4c037ba1-b526-4d8e-e632-91e2a0333267"
   },
   "outputs": [
    {
     "name": "stdout",
     "output_type": "stream",
     "text": [
      "Initialized\n",
      "======================================\n",
      "Loss at step 0: 2.850958\n",
      "Training accuracy: 11.10%\n",
      "(Old) Training accuracy: 11.10%\n",
      "Validation accuracy: 11.32%\n",
      "(Old) Validation accuracy: 45.37%\n",
      "======================================\n",
      "Loss at step 100: 0.282835\n",
      "Training accuracy: 94.40%\n",
      "(Old) Training accuracy: 94.40%\n",
      "Validation accuracy: 78.61%\n",
      "(Old) Validation accuracy: 78.59%\n",
      "======================================\n",
      "Loss at step 200: 0.173570\n",
      "Training accuracy: 97.40%\n",
      "(Old) Training accuracy: 97.40%\n",
      "Validation accuracy: 78.32%\n",
      "(Old) Validation accuracy: 78.33%\n",
      "======================================\n",
      "Loss at step 300: 0.121441\n",
      "Training accuracy: 98.90%\n",
      "(Old) Training accuracy: 98.90%\n",
      "Validation accuracy: 78.00%\n",
      "(Old) Validation accuracy: 78.00%\n",
      "======================================\n",
      "Loss at step 400: 0.092088\n",
      "Training accuracy: 99.70%\n",
      "(Old) Training accuracy: 99.70%\n",
      "Validation accuracy: 77.94%\n",
      "(Old) Validation accuracy: 77.94%\n",
      "======================================\n",
      "Loss at step 500: 0.073730\n",
      "Training accuracy: 99.80%\n",
      "(Old) Training accuracy: 99.80%\n",
      "Validation accuracy: 77.76%\n",
      "(Old) Validation accuracy: 77.76%\n",
      "======================================\n",
      "Loss at step 600: 0.061319\n",
      "Training accuracy: 99.80%\n",
      "(Old) Training accuracy: 99.80%\n",
      "Validation accuracy: 77.69%\n",
      "(Old) Validation accuracy: 77.69%\n",
      "======================================\n",
      "Loss at step 700: 0.052407\n",
      "Training accuracy: 99.80%\n",
      "(Old) Training accuracy: 99.80%\n",
      "Validation accuracy: 77.63%\n",
      "(Old) Validation accuracy: 77.64%\n",
      "======================================\n",
      "Loss at step 800: 0.045707\n",
      "Training accuracy: 99.80%\n",
      "(Old) Training accuracy: 99.80%\n",
      "Validation accuracy: 77.56%\n",
      "(Old) Validation accuracy: 77.55%\n",
      "=============== Finished!! =====================\n",
      "Test accuracy: 84.43%\n",
      "(Old) Test accuracy: 84.43%\n"
     ]
    }
   ],
   "source": [
    "num_steps = 801\n",
    "\n",
    "# Train the model, and also write summaries.\n",
    "# All other steps, run train_step on training data, & add training summaries\n",
    "\n",
    "def feed_dict():\n",
    "    \"\"\"Make a TensorFlow feed_dict: maps data onto Tensor placeholders.\"\"\"\n",
    "    xs = train_dataset[:train_subset, :]\n",
    "    ys = train_labels[:train_subset]\n",
    "\n",
    "    #Valid Data\n",
    "    xv = valid_dataset\n",
    "    yv = valid_labels\n",
    "    \n",
    "    #Test Data\n",
    "    xt = test_dataset\n",
    "    yt = test_labels\n",
    "\n",
    "    return {x: xs, y_: ys, x_valid: xv, y_valid: yv, x_test: xt, y_test: yt}\n",
    "\n",
    "def accuracyOld(predictions, labels):\n",
    "  return (100.0 * np.sum(np.argmax(predictions, 1) == np.argmax(labels, 1))\n",
    "          / predictions.shape[0])\n",
    "\n",
    "with tf.Session(graph = graph) as session:\n",
    "  # This is a one-time operation which ensures the parameters get initialized as\n",
    "  # we described in the graph: random weights for the matrix, zeros for the\n",
    "  # biases. \n",
    "  tf.global_variables_initializer().run()\n",
    "  #session.run(tf.global_variables_initializer())\n",
    "  \n",
    "  # Merge all summary inforation.\n",
    "  merged = tf.summary.merge_all()\n",
    "  write = tf.summary.FileWriter(log_dir + \"/multinomial\", session.graph)\n",
    "  print('Initialized')\n",
    "  for step in range(num_steps):\n",
    "    # Run the computations. We tell .run() that we want to run the optimizer,\n",
    "    # and get the loss value and the training predictions returned as numpy\n",
    "    # arrays.\n",
    "    # Record summaries and test-set accuracy\n",
    "    summary, l, acc, predictions, _ = session.run([merged, loss, accuracy, train_prediction, optimizer],\n",
    "                                                  feed_dict=feed_dict())\n",
    "\n",
    "    write.add_summary(summary, step)\n",
    "    if (step % 100 == 0):\n",
    "      print('======================================')\n",
    "      print('Loss at step %d: %f' % (step, l))\n",
    "      print('Training accuracy: %.2f%%' % acc[0])\n",
    "      print('(Old) Training accuracy: %.2f%%' % accuracyOld(predictions, train_labels[:train_subset, :]))\n",
    "      # Calling .eval() on valid_prediction is basically like calling run(), but\n",
    "      # just to get that one numpy array. Note that it recomputes all its graph\n",
    "      # dependencies.\n",
    "      print('Validation accuracy: %.2f%%' % acc[1])\n",
    "      print('(Old) Validation accuracy: %.2f%%' % accuracyOld(valid_prediction.eval({x_valid: valid_dataset}), valid_labels))\n",
    "  print('=============== Finished!! =====================')  \n",
    "  print('Test accuracy: %.2f%%' % acc[2])\n",
    "  print('(Old) Test accuracy: %.2f%%' % accuracyOld(test_prediction.eval({x_test: test_dataset}), test_labels))\n",
    "  write.close()"
   ]
  },
  {
   "cell_type": "markdown",
   "metadata": {
    "colab_type": "text",
    "id": "x68f-hxRGm3H"
   },
   "source": [
    "Let's now switch to stochastic gradient descent training instead, which is much faster.\n",
    "\n",
    "The graph will be similar, except that instead of holding all the training data into a constant node, we create a `Placeholder` node which will be fed actual data at every call of `session.run()`."
   ]
  },
  {
   "cell_type": "code",
   "execution_count": 43,
   "metadata": {
    "cellView": "both",
    "colab": {
     "autoexec": {
      "startup": false,
      "wait_interval": 0
     }
    },
    "colab_type": "code",
    "id": "qhPMzWYRGrzM"
   },
   "outputs": [],
   "source": [
    "batch_size = 128\n",
    "\n",
    "graph = tf.Graph()\n",
    "with graph.as_default():\n",
    "\n",
    "  # Input data. For the training data, we use a placeholder that will be fed\n",
    "  # at run time with a training minibatch.\n",
    "  tf_train_dataset = tf.placeholder(tf.float32,\n",
    "                                    shape=(batch_size, image_size * image_size))\n",
    "  tf_train_labels = tf.placeholder(tf.float32, shape=(batch_size, num_labels))\n",
    "  tf_valid_dataset = tf.constant(valid_dataset)\n",
    "  tf_test_dataset = tf.constant(test_dataset)\n",
    "  \n",
    "  # Variables.\n",
    "  weights = tf.Variable(\n",
    "    tf.truncated_normal([image_size * image_size, num_labels]))\n",
    "  biases = tf.Variable(tf.zeros([num_labels]))\n",
    "  \n",
    "  # Training computation.\n",
    "  logits = tf.matmul(tf_train_dataset, weights) + biases\n",
    "  loss = tf.reduce_mean(\n",
    "    tf.nn.softmax_cross_entropy_with_logits_v2(labels=tf_train_labels, logits=logits))\n",
    "  \n",
    "  tf_summary_loss_SGD = tf.summary.scalar(\"loss-SGD\", loss)\n",
    "  # Optimizer.\n",
    "  optimizer = tf.train.GradientDescentOptimizer(0.5).minimize(loss)\n",
    "  \n",
    "  # Predictions for the training, validation, and test data.\n",
    "  train_prediction = tf.nn.softmax(logits)\n",
    "  valid_prediction = tf.nn.softmax(\n",
    "    tf.matmul(tf_valid_dataset, weights) + biases)\n",
    "  test_prediction = tf.nn.softmax(tf.matmul(tf_test_dataset, weights) + biases)"
   ]
  },
  {
   "cell_type": "markdown",
   "metadata": {
    "colab_type": "text",
    "id": "XmVZESmtG4JH"
   },
   "source": [
    "Let's run it:"
   ]
  },
  {
   "cell_type": "code",
   "execution_count": 48,
   "metadata": {
    "cellView": "both",
    "colab": {
     "autoexec": {
      "startup": false,
      "wait_interval": 0
     },
     "output_extras": [
      {
       "item_id": 6
      }
     ]
    },
    "colab_type": "code",
    "executionInfo": {
     "elapsed": 66292,
     "status": "ok",
     "timestamp": 1449848003013,
     "user": {
      "color": "",
      "displayName": "",
      "isAnonymous": false,
      "isMe": true,
      "permissionId": "",
      "photoUrl": "",
      "sessionId": "0",
      "userId": ""
     },
     "user_tz": 480
    },
    "id": "FoF91pknG_YW",
    "outputId": "d255c80e-954d-4183-ca1c-c7333ce91d0a"
   },
   "outputs": [
    {
     "name": "stdout",
     "output_type": "stream",
     "text": [
      "Initialized\n",
      "======================================\n",
      "Minibatch loss at step 0: 14.876855\n",
      "======================================\n",
      "Minibatch loss at step 500: 1.480255\n",
      "======================================\n",
      "Minibatch loss at step 1000: 1.185415\n",
      "======================================\n",
      "Minibatch loss at step 1500: 0.971577\n",
      "======================================\n",
      "Minibatch loss at step 2000: 0.982563\n",
      "======================================\n",
      "Minibatch loss at step 2500: 0.759568\n",
      "======================================\n",
      "Minibatch loss at step 3000: 1.107866\n",
      "=================Finished!!=====================\n"
     ]
    }
   ],
   "source": [
    "num_steps = 3001\n",
    "\n",
    "def feed_dict_SGD(step):\n",
    "    # Pick an offset within the training data, which has been randomized.\n",
    "    # Note: we could use better randomization across epochs.\n",
    "    offset = (step * batch_size) % (train_labels.shape[0] - batch_size)\n",
    "    # Generate a minibatch.\n",
    "    batch_data = train_dataset[offset:(offset + batch_size), :]\n",
    "    batch_labels = train_labels[offset:(offset + batch_size), :]\n",
    "    # Prepare a dictionary telling the session where to feed the minibatch.\n",
    "    # The key of the dictionary is the placeholder node of the graph to be fed,\n",
    "    # and the value is the numpy array to feed to it.\n",
    "    return {tf_train_dataset : batch_data, tf_train_labels : batch_labels}\n",
    "\n",
    "with tf.Session(graph=graph) as session:\n",
    "  tf.global_variables_initializer().run()\n",
    "  \n",
    "  # Merge all summary information.\n",
    "  merged = tf.summary.merge_all()\n",
    "  write = tf.summary.FileWriter(log_dir + \"/SGD\", session.graph)\n",
    "\n",
    "  print(\"Initialized\")\n",
    "  for step in range(num_steps):\n",
    "\n",
    "    summary, _, l, predictions = session.run(\n",
    "      [merged, optimizer, loss, train_prediction], feed_dict=feed_dict_SGD(step))\n",
    "    \n",
    "    write.add_summary(summary, step)\n",
    "    #accuracy = tf.Summary(value=[tf.Summary.Value(tag=\"training_accuracy\", simple_value=accuracy(predictions, batch_labels))])\n",
    "    #accuracy_summary.value[1].simple_value = accuracy(predictions, batch_labels)\n",
    "    #write.add_summary(accuracy_summary, step)\n",
    "    #tf_summary_loss_SGD = tf.summary.scalar(\"loss-SGD\", loss)\n",
    "    \n",
    "    if (step % 500 == 0):\n",
    "      print('======================================')\n",
    "      print(\"Minibatch loss at step %d: %f\" % (step, l))\n",
    "      #print(\"Minibatch accuracy: %.1f%%\" % accuracy(predictions, batch_labels))\n",
    "      #print(\"Validation accuracy: %.1f%%\" % accuracy(valid_prediction.eval(), valid_labels))\n",
    "  print('=================Finished!!=====================')  \n",
    "  #print(\"Test accuracy: %.1f%%\" % accuracy(test_prediction.eval(), test_labels))"
   ]
  },
  {
   "cell_type": "markdown",
   "metadata": {
    "colab_type": "text",
    "id": "7omWxtvLLxik"
   },
   "source": [
    "---\n",
    "Problem\n",
    "-------\n",
    "\n",
    "Turn the logistic regression example with SGD into a 1-hidden layer neural network with rectified linear units [nn.relu()](https://www.tensorflow.org/versions/r0.7/api_docs/python/nn.html#relu) and 1024 hidden nodes. This model should improve your validation / test accuracy.\n",
    "\n",
    "---"
   ]
  },
  {
   "cell_type": "code",
   "execution_count": null,
   "metadata": {},
   "outputs": [],
   "source": [
    "num_nodes= 1024\n",
    "batch_size = 128\n",
    "\n",
    "graph = tf.Graph()\n",
    "with graph.as_default():\n",
    "\n",
    "    # Input data. For the training data, we use a placeholder that will be fed\n",
    "    # at run time with a training minibatch.\n",
    "    tf_train_dataset = tf.placeholder(tf.float32,\n",
    "                                    shape=(batch_size, image_size * image_size))\n",
    "    tf_train_labels = tf.placeholder(tf.float32, shape=(batch_size, num_labels))\n",
    "    tf_valid_dataset = tf.constant(valid_dataset)\n",
    "    tf_test_dataset = tf.constant(test_dataset)\n",
    "\n",
    "    # Variables.\n",
    "    weights_1 = tf.Variable(\n",
    "        tf.truncated_normal([image_size * image_size, num_nodes]))\n",
    "    biases_1 = tf.Variable(tf.zeros([num_nodes]))\n",
    "    weights_2 = tf.Variable(tf.truncated_normal([num_nodes, num_labels]))\n",
    "    biases_2 = tf.Variable(tf.zeros([num_labels]))\n",
    "    \n",
    "    logits_1 = tf.matmul(tf_train_dataset, weights_1) + biases_1\n",
    "    relu_layer= tf.nn.relu(logits_1)\n",
    "    logits_2 = tf.matmul(relu_layer, weights_2) + biases_2\n",
    "    loss = tf.reduce_mean(\n",
    "        tf.nn.softmax_cross_entropy_with_logits_v2(labels=tf_train_labels, logits=logits_2))\n",
    "    \n",
    "    tf_summary_loss_SGD_1h = tf.summary.scalar(\"loss-SGD-1-hidden\", loss)\n",
    "    \n",
    "    # Optimizer.\n",
    "    optimizer = tf.train.GradientDescentOptimizer(0.5).minimize(loss)\n",
    "\n",
    "    # Predictions for the training\n",
    "    train_prediction = tf.nn.softmax(logits_2)\n",
    "    \n",
    "    # Predictions for validation \n",
    "    logits_1 = tf.matmul(tf_valid_dataset, weights_1) + biases_1\n",
    "    relu_layer= tf.nn.relu(logits_1)\n",
    "    logits_2 = tf.matmul(relu_layer, weights_2) + biases_2\n",
    "    \n",
    "    valid_prediction = tf.nn.softmax(logits_2)\n",
    "    \n",
    "    # Predictions for test\n",
    "    logits_1 = tf.matmul(tf_test_dataset, weights_1) + biases_1\n",
    "    relu_layer= tf.nn.relu(logits_1)\n",
    "    logits_2 = tf.matmul(relu_layer, weights_2) + biases_2\n",
    "    \n",
    "    test_prediction =  tf.nn.softmax(logits_2)"
   ]
  },
  {
   "cell_type": "code",
   "execution_count": null,
   "metadata": {},
   "outputs": [],
   "source": [
    "num_steps = 3001\n",
    "\n",
    "with tf.Session(graph=graph) as session:\n",
    "    tf.global_variables_initializer().run()\n",
    "    # Merge all summary inforation.\n",
    "    summary_merge = tf.summary.merge_all()\n",
    "    write.add_graph(session.graph, num_steps)\n",
    "    print(\"Initialized\")\n",
    "    for step in range(num_steps):\n",
    "        # Pick an offset within the training data, which has been randomized.\n",
    "        # Note: we could use better randomization across epochs.\n",
    "        offset = (step * batch_size) % (train_labels.shape[0] - batch_size)\n",
    "        # Generate a minibatch.\n",
    "        batch_data = train_dataset[offset:(offset + batch_size), :]\n",
    "        batch_labels = train_labels[offset:(offset + batch_size), :]\n",
    "        # Prepare a dictionary telling the session where to feed the minibatch.\n",
    "        # The key of the dictionary is the placeholder node of the graph to be fed,\n",
    "        # and the value is the numpy array to feed to it.\n",
    "        feed_dict = {tf_train_dataset : batch_data, tf_train_labels : batch_labels}\n",
    "        summary, _, l, predictions = session.run([summary_merge, optimizer, loss, train_prediction], feed_dict=feed_dict)\n",
    "        write.add_summary(summary, step)\n",
    "\n",
    "        #accuracy = tf.Summary(value=[tf.Summary.Value(tag=\"training_accuracy\", simple_value=accuracy(predictions, batch_labels))])\n",
    "        accuracy_summary.value[2].simple_value = accuracy(predictions, batch_labels)\n",
    "        write.add_summary(accuracy_summary, step)\n",
    "        \n",
    "        #tf_summary_loss_SGD_1h = tf.summary.scalar(\"loss-SGD-1-hidden\", loss)\n",
    "        if (step % 500 == 0):\n",
    "          print('======================================')\n",
    "          print(\"Minibatch loss at step %d: %f\" % (step, l))\n",
    "          print(\"Minibatch accuracy: %.1f%%\" % accuracy(predictions, batch_labels))\n",
    "          print(\"Validation accuracy: %.1f%%\" % accuracy(\n",
    "              valid_prediction.eval(), valid_labels))\n",
    "    print(\"Test accuracy: %.1f%%\" % accuracy(test_prediction.eval(), test_labels))"
   ]
  },
  {
   "cell_type": "code",
   "execution_count": null,
   "metadata": {},
   "outputs": [],
   "source": [
    "performance_summaries = tf.summary.merge([tf_summary_loss, tf_summary_loss_SGD, tf_summary_loss_SGD_1h])\n",
    "write.add_summary(performance_summaries)"
   ]
  },
  {
   "cell_type": "code",
   "execution_count": null,
   "metadata": {},
   "outputs": [],
   "source": []
  }
 ],
 "metadata": {
  "colab": {
   "default_view": {},
   "name": "2_fullyconnected.ipynb",
   "provenance": [],
   "version": "0.3.2",
   "views": {}
  },
  "kernelspec": {
   "display_name": "Python 3",
   "language": "python",
   "name": "python3"
  },
  "language_info": {
   "codemirror_mode": {
    "name": "ipython",
    "version": 3
   },
   "file_extension": ".py",
   "mimetype": "text/x-python",
   "name": "python",
   "nbconvert_exporter": "python",
   "pygments_lexer": "ipython3",
   "version": "3.7.3"
  }
 },
 "nbformat": 4,
 "nbformat_minor": 1
}
